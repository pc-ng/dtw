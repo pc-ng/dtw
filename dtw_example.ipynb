{
 "metadata": {
  "language_info": {
   "codemirror_mode": {
    "name": "ipython",
    "version": 3
   },
   "file_extension": ".py",
   "mimetype": "text/x-python",
   "name": "python",
   "nbconvert_exporter": "python",
   "pygments_lexer": "ipython3",
   "version": "3.7.5"
  },
  "orig_nbformat": 2,
  "kernelspec": {
   "name": "pythonjvsc74a57bd075123939440c19f23dbee41a841868c37bc0bfec0d146582517260909bc88568",
   "display_name": "Python"
  },
  "metadata": {
   "interpreter": {
    "hash": "75123939440c19f23dbee41a841868c37bc0bfec0d146582517260909bc88568"
   }
  }
 },
 "nbformat": 4,
 "nbformat_minor": 2,
 "cells": [
  {
   "source": [
    "# DTW Example\n",
    "\n",
    "This notebook demonstrates the DTW computation following the example described [here]().\n",
    "* The first part of the notebook goes through the DTW algorithm based on dynamic programming.\n",
    "* The second part of the notebook describes the usage of functions wrapped up in `dtw.py`.\n",
    "\n",
    "\n",
    "## First Part \n",
    "\n",
    "First, define the two time series A and B"
   ],
   "cell_type": "markdown",
   "metadata": {}
  },
  {
   "cell_type": "code",
   "execution_count": 1,
   "metadata": {},
   "outputs": [],
   "source": [
    "import numpy as np "
   ]
  },
  {
   "cell_type": "code",
   "execution_count": 2,
   "metadata": {},
   "outputs": [],
   "source": [
    "A = np.array([3,2,2,3,5,5,6])\n",
    "B = np.array([1,3,2,2,3,5])"
   ]
  },
  {
   "source": [
    "Initialize a dtw matrix based on the length of A and B, i.e., length of B define the number of rows, and length of A define the number of columns."
   ],
   "cell_type": "markdown",
   "metadata": {}
  },
  {
   "cell_type": "code",
   "execution_count": 3,
   "metadata": {},
   "outputs": [
    {
     "output_type": "stream",
     "name": "stdout",
     "text": [
      "[[0. 0. 0. 0. 0. 0. 0.]\n [0. 0. 0. 0. 0. 0. 0.]\n [0. 0. 0. 0. 0. 0. 0.]\n [0. 0. 0. 0. 0. 0. 0.]\n [0. 0. 0. 0. 0. 0. 0.]\n [0. 0. 0. 0. 0. 0. 0.]]\n"
     ]
    }
   ],
   "source": [
    "dtw_mat = np.zeros((len(B), len(A)))\n",
    "print(dtw_mat)"
   ]
  },
  {
   "source": [
    "Now, we need to loop through all element in the dtw matrix."
   ],
   "cell_type": "markdown",
   "metadata": {}
  },
  {
   "cell_type": "code",
   "execution_count": 4,
   "metadata": {},
   "outputs": [
    {
     "output_type": "stream",
     "name": "stdout",
     "text": [
      "[[ 2.  3.  4.  6. 10. 14. 19.]\n [ 2.  3.  4.  4.  6.  8. 11.]\n [ 3.  2.  2.  3.  6.  9. 12.]\n [ 4.  2.  2.  3.  6.  9. 13.]\n [ 4.  3.  3.  2.  4.  6.  9.]\n [ 6.  6.  6.  4.  2.  2.  3.]]\n"
     ]
    }
   ],
   "source": [
    "# define the absolute distance function\n",
    "d = lambda x, y: np.abs(x - y)\n",
    "\n",
    "for i in range(len(B)):\n",
    "    for j in range(len(A)):\n",
    "        if i == 0 and j == 0:\n",
    "            dtw_mat[i, j] = d(B[i], A[j])\n",
    "        else:\n",
    "            if i == 0 and j > 0:\n",
    "                choice = dtw_mat[i, j-1]\n",
    "            elif i > 0 and j == 0:\n",
    "                choice = dtw_mat[i-1, j]\n",
    "            else:\n",
    "                choice = [dtw_mat[i-1, j], dtw_mat[i, j-1], dtw_mat[i-1, j-1]]\n",
    "            \n",
    "            dtw_mat[i, j] = d(B[i], A[j]) + np.min(choice)\n",
    "\n",
    "print(dtw_mat)"
   ]
  },
  {
   "source": [
    "We can find the warping path by backtracking."
   ],
   "cell_type": "markdown",
   "metadata": {}
  },
  {
   "cell_type": "code",
   "execution_count": 5,
   "metadata": {},
   "outputs": [
    {
     "output_type": "stream",
     "name": "stdout",
     "text": [
      "[[5, 6]]\n[[5, 6], [5, 5]]\n[[5, 6], [5, 5], [5, 4]]\n[[5, 6], [5, 5], [5, 4], [4, 3]]\n[[5, 6], [5, 5], [5, 4], [4, 3], [3, 2]]\n[[5, 6], [5, 5], [5, 4], [4, 3], [3, 2], [2, 2]]\n[[5, 6], [5, 5], [5, 4], [4, 3], [3, 2], [2, 2], [2, 1]]\n[[5, 6], [5, 5], [5, 4], [4, 3], [3, 2], [2, 2], [2, 1], [1, 0]]\n[[5, 6], [5, 5], [5, 4], [4, 3], [3, 2], [2, 2], [2, 1], [1, 0], [0, 0]]\n"
     ]
    }
   ],
   "source": [
    "path = [[len(B)-1, len(A)-1]]\n",
    "while(True):\n",
    "    print(path)\n",
    "    i, j = path[-1][0], path[-1][1]\n",
    "    if i == 0 and j == 0:\n",
    "        break\n",
    "    elif i == 0 and j > 0:\n",
    "        path.append([i, j-1])\n",
    "    elif i > 0 and j == 0:\n",
    "        path.append([i-1, j])\n",
    "    else:\n",
    "        choice = [dtw_mat[i-1, j], dtw_mat[i, j-1], dtw_mat[i-1, j-1]]\n",
    "        ind = [[i-1, j], [i, j-1], [i-1, j-1]]\n",
    "        k = np.argmin(choice)\n",
    "        path.append(ind[k])"
   ]
  },
  {
   "cell_type": "code",
   "execution_count": 6,
   "metadata": {},
   "outputs": [
    {
     "output_type": "stream",
     "name": "stdout",
     "text": [
      "[[1. 0. 0. 0. 0. 0. 0.]\n [1. 0. 0. 0. 0. 0. 0.]\n [0. 1. 1. 0. 0. 0. 0.]\n [0. 0. 1. 0. 0. 0. 0.]\n [0. 0. 0. 1. 0. 0. 0.]\n [0. 0. 0. 0. 1. 1. 1.]]\n"
     ]
    }
   ],
   "source": [
    "warp = np.zeros((len(B), len(A)))\n",
    "for p in path:\n",
    "    warp[p[0], p[1]] = 1 \n",
    "\n",
    "print(warp)"
   ]
  },
  {
   "source": [
    "Then, we can calculate the normalized distance between time series A and time series B. \n",
    "Assume that all the point shares equal weight, i.e., $w_s=1$ for all $P_s$, then $D(A,B)$ can be computed as follows:\n",
    "\n",
    "$$\n",
    "D(A,B) = \\frac{1}{k} \\sum_{s = 1}^k d(P_s)\n",
    "$$"
   ],
   "cell_type": "markdown",
   "metadata": {}
  },
  {
   "cell_type": "code",
   "execution_count": 7,
   "metadata": {},
   "outputs": [
    {
     "output_type": "stream",
     "name": "stdout",
     "text": [
      "Normalized Distance: 2.111111\n"
     ]
    }
   ],
   "source": [
    "D = np.sum(warp * dtw_mat)/len(path)\n",
    "print(f'Normalized Distance: {D:2f}')"
   ]
  },
  {
   "source": [
    "## Second Part\n",
    "\n",
    "The dtw computation above is wrapped up into three functions, i.e., `computed_dtwMat`, `get_warpingPath`, `normalized_dist`. These functions are saved in the script `dtw.py`."
   ],
   "cell_type": "markdown",
   "metadata": {}
  },
  {
   "cell_type": "code",
   "execution_count": 8,
   "metadata": {},
   "outputs": [],
   "source": [
    "from dtw import computed_dtwMat, get_warpingPath, normalized_dist"
   ]
  },
  {
   "cell_type": "code",
   "execution_count": 9,
   "metadata": {},
   "outputs": [
    {
     "output_type": "stream",
     "name": "stdout",
     "text": [
      "[[ 2.  3.  4.  6. 10. 14. 19.]\n [ 2.  3.  4.  4.  6.  8. 11.]\n [ 3.  2.  2.  3.  6.  9. 12.]\n [ 4.  2.  2.  3.  6.  9. 13.]\n [ 4.  3.  3.  2.  4.  6.  9.]\n [ 6.  6.  6.  4.  2.  2.  3.]]\n"
     ]
    }
   ],
   "source": [
    "dtw_mat = computed_dtwMat(A, B)\n",
    "print(dtw_mat)"
   ]
  },
  {
   "cell_type": "code",
   "execution_count": 10,
   "metadata": {},
   "outputs": [
    {
     "output_type": "stream",
     "name": "stdout",
     "text": [
      "[[1. 0. 0. 0. 0. 0. 0.]\n [1. 0. 0. 0. 0. 0. 0.]\n [0. 1. 1. 0. 0. 0. 0.]\n [0. 0. 1. 0. 0. 0. 0.]\n [0. 0. 0. 1. 0. 0. 0.]\n [0. 0. 0. 0. 1. 1. 1.]]\n[[ 2.  3.  4.  6. 10. 14. 19.]\n [ 2.  3.  4.  4.  6.  8. 11.]\n [ 3.  2.  2.  3.  6.  9. 12.]\n [ 4.  2.  2.  3.  6.  9. 13.]\n [ 4.  3.  3.  2.  4.  6.  9.]\n [ 6.  6.  6.  4.  2.  2.  3.]]\n"
     ]
    }
   ],
   "source": [
    "path, warp, dtw_matrix = get_warpingPath(A, B)\n",
    "print(warp)\n",
    "print(dtw_mat)"
   ]
  },
  {
   "cell_type": "code",
   "execution_count": 11,
   "metadata": {},
   "outputs": [
    {
     "output_type": "stream",
     "name": "stdout",
     "text": [
      "Normalized Distance: 2.111111\n"
     ]
    }
   ],
   "source": [
    "D = normalized_dist(A, B)\n",
    "print(f'Normalized Distance: {D:2f}')"
   ]
  }
 ]
}